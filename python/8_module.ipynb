{
 "cells": [
  {
   "cell_type": "markdown",
   "metadata": {},
   "source": [
    "### 模块的层级包\n",
    "\n",
    "在文件系统上组织你的代码，并确保每个目录都定义了一个`__init__.py`文件。\n",
    "\n",
    "文件__init__.py的目的是要包含不同运行级别的包的可选的初始化代码\n",
    "\n",
    "```\n",
    "graphics/\n",
    "    __init__.py\n",
    "    primitive/\n",
    "        __init__.py\n",
    "        line.py\n",
    "        fill.py\n",
    "        text.py\n",
    "    formats/\n",
    "        __init__.py\n",
    "        png.py\n",
    "        jpg.py\n",
    "```"
   ]
  },
  {
   "cell_type": "code",
   "execution_count": null,
   "metadata": {},
   "outputs": [],
   "source": [
    "import graphics.primitive.line\n",
    "from graphics.primitive import line\n",
    "import graphics.formats.jpg as jpg"
   ]
  },
  {
   "cell_type": "code",
   "execution_count": null,
   "metadata": {},
   "outputs": [],
   "source": [
    "# __init__.py能够用来自动加载子模块:\n",
    "# 用户可以仅仅通过import grahpics.formats来代替import graphics.formats.jpg\n",
    "# graphics/formats/__init__.py\n",
    "from . import jpg\n",
    "from . import png"
   ]
  },
  {
   "cell_type": "markdown",
   "metadata": {},
   "source": [
    "### 明确导出\n",
    "\n",
    "定义一个变量 __all__ 来明确地列出需要`from module import *` 导出的内容"
   ]
  },
  {
   "cell_type": "code",
   "execution_count": null,
   "metadata": {},
   "outputs": [],
   "source": [
    "# somemodule.py\n",
    "def spam():\n",
    "    pass\n",
    "\n",
    "def grok():\n",
    "    pass\n",
    "\n",
    "blah = 42\n",
    "# Only export 'spam' and 'grok'\n",
    "__all__ = ['spam', 'grok']"
   ]
  },
  {
   "cell_type": "markdown",
   "metadata": {},
   "source": [
    "### 相对路径导入\n",
    "\n",
    "```\n",
    "mypackage/\n",
    "    __init__.py\n",
    "    A/\n",
    "        __init__.py\n",
    "        spam.py\n",
    "        grok.py\n",
    "    B/\n",
    "        __init__.py\n",
    "        bar.py\n",
    "```"
   ]
  },
  {
   "cell_type": "code",
   "execution_count": null,
   "metadata": {},
   "outputs": [],
   "source": [
    "# mypackage/A/spam.py\n",
    "from . import grok\n",
    "# mypackage/A/spam.py\n",
    "from ..B import bar"
   ]
  },
  {
   "cell_type": "markdown",
   "metadata": {},
   "source": [
    "### 合并多个文件合并成一个单一的逻辑命名空间\n",
    "\n",
    "```\n",
    "mymodule/\n",
    "    __init__.py\n",
    "    a.py\n",
    "    b.py\n",
    "```"
   ]
  },
  {
   "cell_type": "code",
   "execution_count": null,
   "metadata": {},
   "outputs": [],
   "source": [
    "# a.py\n",
    "class A:\n",
    "    def spam(self):\n",
    "        print('A.spam')\n",
    "\n",
    "# b.py\n",
    "from .a import A\n",
    "class B(A):\n",
    "    def bar(self):\n",
    "        print('B.bar')\n",
    "\n",
    "# __init__.py\n",
    "from .a import A\n",
    "from .b import B\n",
    "\n",
    "from mymodule import A, B"
   ]
  },
  {
   "cell_type": "markdown",
   "metadata": {},
   "source": [
    "### 导入多个文件合并成一个单一的逻辑命名空间\n",
    "\n",
    "在任何一个目录里都没有`__init__.py`文件\n",
    "\n",
    "```\n",
    "foo-package/\n",
    "    spam/\n",
    "        blah.py\n",
    "\n",
    "bar-package/\n",
    "    spam/\n",
    "        grok.py     \n",
    "```"
   ]
  },
  {
   "cell_type": "code",
   "execution_count": null,
   "metadata": {},
   "outputs": [],
   "source": [
    "import sys\n",
    "sys.path.extend(['foo-package', 'bar-package'])\n",
    "import spam.blah\n",
    "import spam.grok"
   ]
  },
  {
   "cell_type": "markdown",
   "metadata": {},
   "source": [
    "### 重新加载模块\n",
    "\n",
    "只能重新加载 import 导入的模块\n",
    "\n",
    "from xx import xx 的模块无法重新加载"
   ]
  },
  {
   "cell_type": "code",
   "execution_count": null,
   "metadata": {},
   "outputs": [],
   "source": [
    "import spam\n",
    "import imp\n",
    "imp.reload(spam)"
   ]
  },
  {
   "cell_type": "markdown",
   "metadata": {},
   "source": [
    "### 读取数据文件\n",
    "\n",
    "```\n",
    "mypackage/\n",
    "    __init__.py\n",
    "    somedata.dat\n",
    "    spam.py\n",
    "```"
   ]
  },
  {
   "cell_type": "code",
   "execution_count": null,
   "metadata": {},
   "outputs": [],
   "source": [
    "# spam.py\n",
    "import pkgutil\n",
    "data = pkgutil.get_data(__package__, 'somedata.dat')"
   ]
  },
  {
   "cell_type": "markdown",
   "metadata": {},
   "source": [
    "### sys.path"
   ]
  },
  {
   "cell_type": "code",
   "execution_count": 2,
   "metadata": {},
   "outputs": [
    {
     "name": "stderr",
     "output_type": "stream",
     "text": [
      "UsageError: Line magic function `%` not found.\n"
     ]
    }
   ],
   "source": [
    "% env PYTHONPATH=/some/dir:/other/dir python3\n",
    "\n",
    "import sys\n",
    "sys.path.insert(0, '/some/dir')\n",
    "\n",
    "# 创建一个.pth文件 myapplication.pth\n",
    "/some/dir"
   ]
  },
  {
   "cell_type": "markdown",
   "metadata": {},
   "source": [
    "### 字符串名导入模块"
   ]
  },
  {
   "cell_type": "code",
   "execution_count": null,
   "metadata": {},
   "outputs": [],
   "source": [
    "import importlib\n",
    "math = importlib.import_module('math')\n",
    "# Same as 'from . import b'\n",
    "b = importlib.import_module('.b', __package__)"
   ]
  },
  {
   "cell_type": "markdown",
   "metadata": {},
   "source": [
    "### 通过钩子远程加载模块\n",
    "\n",
    "https://python3-cookbook.readthedocs.io/zh_CN/latest/c10/p11_load_modules_from_remote_machine_by_hooks.html#"
   ]
  },
  {
   "cell_type": "markdown",
   "metadata": {},
   "source": [
    "### 导入模块的同时修改模块\n",
    "\n",
    "https://python3-cookbook.readthedocs.io/zh_CN/latest/c10/p12_patching_modules_on_import.html"
   ]
  },
  {
   "cell_type": "markdown",
   "metadata": {},
   "source": [
    "### 为用户安装包\n",
    "\n",
    "pip install --user packagename"
   ]
  },
  {
   "cell_type": "code",
   "execution_count": null,
   "metadata": {},
   "outputs": [],
   "source": [
    "### 分发包\n",
    "\n",
    "```\n",
    "projectname/\n",
    "    README.txt\n",
    "    Doc/\n",
    "        documentation.txt\n",
    "    projectname/\n",
    "        __init__.py\n",
    "        foo.py\n",
    "        bar.py\n",
    "        utils/\n",
    "            __init__.py\n",
    "            spam.py\n",
    "            grok.py\n",
    "    examples/\n",
    "        helloworld.py\n",
    "        ...\n",
    "```"
   ]
  },
  {
   "cell_type": "code",
   "execution_count": null,
   "metadata": {},
   "outputs": [],
   "source": [
    "# setup.py\n",
    "from distutils.core import setup\n",
    "\n",
    "setup(name='projectname',\n",
    "    version='1.0',\n",
    "    author='Your Name',\n",
    "    author_email='you@youraddress.com',\n",
    "    url='http://www.you.com/projectname',\n",
    "    packages=['projectname', 'projectname.utils'],\n",
    ")"
   ]
  },
  {
   "cell_type": "code",
   "execution_count": null,
   "metadata": {},
   "outputs": [],
   "source": [
    "# MANIFEST.in 非源码文件\n",
    "include *.txt\n",
    "recursive-include examples *\n",
    "recursive-include Doc *"
   ]
  },
  {
   "cell_type": "code",
   "execution_count": null,
   "metadata": {},
   "outputs": [],
   "source": [
    "% bash python3 setup.py sdist"
   ]
  }
 ],
 "metadata": {
  "kernelspec": {
   "display_name": "Python 3",
   "language": "python",
   "name": "python3"
  },
  "language_info": {
   "codemirror_mode": {
    "name": "ipython",
    "version": 3
   },
   "file_extension": ".py",
   "mimetype": "text/x-python",
   "name": "python",
   "nbconvert_exporter": "python",
   "pygments_lexer": "ipython3",
   "version": "3.7.9"
  }
 },
 "nbformat": 4,
 "nbformat_minor": 4
}
