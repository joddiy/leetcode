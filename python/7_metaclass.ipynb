{
 "cells": [
  {
   "cell_type": "markdown",
   "metadata": {},
   "source": [
    "### 元类\n",
    "\n",
    "一个基本元类通常是继承自 type 并重定义它的 __new__() 方法 或者是 __init__() 方法"
   ]
  },
  {
   "cell_type": "code",
   "execution_count": null,
   "metadata": {},
   "outputs": [],
   "source": [
    "class MyMeta(type):\n",
    "    def __new__(self, clsname, bases, clsdict):\n",
    "        # clsname is name of class being defined\n",
    "        # bases is tuple of base classes\n",
    "        # clsdict is class dictionary\n",
    "        return super().__new__(cls, clsname, bases, clsdict)\n",
    "\n",
    "class MyMeta(type):\n",
    "    def __init__(self, clsname, bases, clsdict):\n",
    "        super().__init__(clsname, bases, clsdict)\n",
    "        # clsname is name of class being defined\n",
    "        # bases is tuple of base classes\n",
    "        # clsdict is class dictionary\n",
    "\n",
    "class Root(metaclass=MyMeta):\n",
    "    pass\n",
    "\n",
    "class A(Root):\n",
    "    pass\n",
    "\n",
    "class B(Root):\n",
    "    pass"
   ]
  },
  {
   "cell_type": "code",
   "execution_count": 2,
   "metadata": {},
   "outputs": [],
   "source": [
    "# 禁止实例化\n",
    "class NoInstances(type):\n",
    "    def __call__(self, *args, **kwargs):\n",
    "        raise TypeError(\"Can't instantiate directly\")\n",
    "\n",
    "# Example\n",
    "class Spam(metaclass=NoInstances):\n",
    "    @staticmethod\n",
    "    def grok(x):\n",
    "        print('Spam.grok')\n",
    "\n",
    "# s = Spam()"
   ]
  },
  {
   "cell_type": "code",
   "execution_count": 10,
   "metadata": {},
   "outputs": [
    {
     "name": "stdout",
     "output_type": "stream",
     "text": [
      "Creating Spam\n"
     ]
    },
    {
     "data": {
      "text/plain": [
       "True"
      ]
     },
     "execution_count": 10,
     "metadata": {},
     "output_type": "execute_result"
    }
   ],
   "source": [
    "# 单例模式\n",
    "class Singleton(type):\n",
    "    def __init__(self, *args, **kwargs):\n",
    "        super().__init__(*args, **kwargs)\n",
    "        self.__instance = None\n",
    "\n",
    "    def __call__(self, *args, **kwargs):\n",
    "        if self.__instance is None:\n",
    "            # 不存在时调用父类的call来实例化\n",
    "            self.__instance = super().__call__(*args, **kwargs)\n",
    "            return self.__instance\n",
    "        else:\n",
    "            return self.__instance\n",
    "\n",
    "# Example\n",
    "class Spam(metaclass=Singleton):\n",
    "    def __init__(self):\n",
    "        print('Creating Spam')\n",
    "        \n",
    "a = Spam()\n",
    "b = Spam()\n",
    "a is b"
   ]
  },
  {
   "cell_type": "code",
   "execution_count": 11,
   "metadata": {},
   "outputs": [
    {
     "name": "stdout",
     "output_type": "stream",
     "text": [
      "Creating Spam('Guido')\n",
      "Creating Spam('Diana')\n",
      "False\n",
      "True\n"
     ]
    }
   ],
   "source": [
    "# 缓存实例\n",
    "import weakref\n",
    "\n",
    "class Cached(type):\n",
    "    def __init__(self, *args, **kwargs):\n",
    "        super().__init__(*args, **kwargs)\n",
    "        self.__cache = weakref.WeakValueDictionary()\n",
    "\n",
    "    def __call__(self, *args):\n",
    "        if args in self.__cache:\n",
    "            return self.__cache[args]\n",
    "        else:\n",
    "            obj = super().__call__(*args)\n",
    "            self.__cache[args] = obj\n",
    "            return obj\n",
    "\n",
    "# Example\n",
    "class Spam(metaclass=Cached):\n",
    "    def __init__(self, name):\n",
    "        print('Creating Spam({!r})'.format(name))\n",
    "        self.name = name\n",
    "        \n",
    "a = Spam('Guido')\n",
    "b = Spam('Diana')\n",
    "c = Spam('Guido') # Cached\n",
    "print(a is b)\n",
    "print(a is c) # Cached value returned"
   ]
  },
  {
   "cell_type": "markdown",
   "metadata": {},
   "source": [
    "### 捕获类的属性定义顺序\n",
    "\n",
    "__prepare__() 方法会在开始定义类和它的父类的时候被执行。它必须返回一个映射对象以便在类定义体中被使用到。 "
   ]
  },
  {
   "cell_type": "code",
   "execution_count": 14,
   "metadata": {},
   "outputs": [
    {
     "name": "stdout",
     "output_type": "stream",
     "text": [
      "{'__module__': '__main__', '__qualname__': 'Structure', 'as_csv': <function Structure.as_csv at 0x7fc9a0a47f80>, '_order': []}\n",
      "{'__module__': '__main__', '__qualname__': 'Stock', 'name': <__main__.String object at 0x7fc9a0a88110>, 'shares': <__main__.Integer object at 0x7fc9a0a88310>, 'price': <__main__.Float object at 0x7fc9a0a883d0>, '__init__': <function Stock.__init__ at 0x7fc9a0a81290>, '_order': ['name', 'shares', 'price']}\n"
     ]
    },
    {
     "data": {
      "text/plain": [
       "'GOOG,100,490.1'"
      ]
     },
     "execution_count": 14,
     "metadata": {},
     "output_type": "execute_result"
    }
   ],
   "source": [
    "from collections import OrderedDict\n",
    "\n",
    "# A set of descriptors for various types\n",
    "class Typed:\n",
    "    _expected_type = type(None)\n",
    "    def __init__(self, name=None):\n",
    "        self._name = name\n",
    "\n",
    "    def __set__(self, instance, value):\n",
    "        if not isinstance(value, self._expected_type):\n",
    "            raise TypeError('Expected ' + str(self._expected_type))\n",
    "        instance.__dict__[self._name] = value\n",
    "\n",
    "class Integer(Typed):\n",
    "    _expected_type = int\n",
    "\n",
    "class Float(Typed):\n",
    "    _expected_type = float\n",
    "\n",
    "class String(Typed):\n",
    "    _expected_type = str\n",
    "\n",
    "# Metaclass that uses an OrderedDict for class body\n",
    "class OrderedMeta(type):\n",
    "    def __new__(cls, clsname, bases, clsdict):\n",
    "        # 先解构顺序，然后再用普通词典构造类\n",
    "        d = dict(clsdict)\n",
    "        order = []\n",
    "        for name, value in clsdict.items():\n",
    "            if isinstance(value, Typed):\n",
    "                value._name = name\n",
    "                order.append(name)\n",
    "        d['_order'] = order\n",
    "        return type.__new__(cls, clsname, bases, d)\n",
    "\n",
    "    @classmethod\n",
    "    def __prepare__(cls, clsname, bases):\n",
    "        # 使用有序字典，使class中定义的顺序可以被保留\n",
    "        return OrderedDict()\n",
    "    \n",
    "class Structure(metaclass=OrderedMeta):\n",
    "    def as_csv(self):\n",
    "        return ','.join(str(getattr(self,name)) for name in self._order)\n",
    "\n",
    "# Example use\n",
    "class Stock(Structure):\n",
    "    name = String()\n",
    "    shares = Integer()\n",
    "    price = Float()\n",
    "\n",
    "    def __init__(self, name, shares, price):\n",
    "        self.name = name\n",
    "        self.shares = shares\n",
    "        self.price = price\n",
    "\n",
    "s = Stock('GOOG',100,490.1)\n",
    "s.as_csv()"
   ]
  },
  {
   "cell_type": "markdown",
   "metadata": {},
   "source": [
    "### 可选参数的元类\n",
    "\n",
    "必须确保在 __prepare__() , __new__() 和 __init__() 方法中 都使用强制关键字参数\n",
    "\n",
    "> __prepare__() 方法在所有类定义开始执行前首先被调用，用来创建类命名空间。 通常来讲，这个方法只是简单的返回一个字典或其他映射对象。 __new__() 方法被用来实例化最终的类对象。它在类的主体被执行完后开始执行。 __init__() 方法最后被调用，用来执行其他的一些初始化工作。"
   ]
  },
  {
   "cell_type": "code",
   "execution_count": null,
   "metadata": {},
   "outputs": [],
   "source": [
    "class MyMeta(type):\n",
    "    # Optional\n",
    "    @classmethod\n",
    "    def __prepare__(cls, name, bases, *, debug=False, synchronize=False):\n",
    "        # Custom processing\n",
    "        pass\n",
    "        return super().__prepare__(name, bases)\n",
    "\n",
    "    # Required\n",
    "    def __new__(cls, name, bases, ns, *, debug=False, synchronize=False):\n",
    "        # Custom processing\n",
    "        pass\n",
    "        return super().__new__(cls, name, bases, ns)\n",
    "\n",
    "    # Required\n",
    "    def __init__(self, name, bases, ns, *, debug=False, synchronize=False):\n",
    "        # Custom processing\n",
    "        super().__init__(name, bases, ns)\n",
    "        pass\n",
    "\n",
    "class Spam(metaclass=MyMeta, debug=True, synchronize=True):\n",
    "    pass"
   ]
  },
  {
   "cell_type": "markdown",
   "metadata": {},
   "source": [
    "### 元类创建签名对象"
   ]
  },
  {
   "cell_type": "code",
   "execution_count": 18,
   "metadata": {},
   "outputs": [
    {
     "name": "stdout",
     "output_type": "stream",
     "text": [
      "(name, shares, price)\n"
     ]
    }
   ],
   "source": [
    "from inspect import Signature, Parameter\n",
    "\n",
    "def make_sig(*names):\n",
    "    parms = [Parameter(name, Parameter.POSITIONAL_OR_KEYWORD)\n",
    "            for name in names]\n",
    "    return Signature(parms)\n",
    "\n",
    "class StructureMeta(type):\n",
    "    def __new__(cls, clsname, bases, clsdict):\n",
    "        clsdict['__signature__'] = make_sig(*clsdict.get('_fields',[]))\n",
    "        return super().__new__(cls, clsname, bases, clsdict)\n",
    "\n",
    "class Structure(metaclass=StructureMeta):\n",
    "    _fields = []\n",
    "    def __init__(self, *args, **kwargs):\n",
    "        bound_values = self.__signature__.bind(*args, **kwargs)\n",
    "        for name, value in bound_values.arguments.items():\n",
    "            setattr(self, name, value)\n",
    "\n",
    "# Example\n",
    "class Stock(Structure):\n",
    "    _fields = ['name', 'shares', 'price']\n",
    "\n",
    "class Point(Structure):\n",
    "    _fields = ['x', 'y']\n",
    "\n",
    "import inspect\n",
    "print(inspect.signature(Stock))"
   ]
  },
  {
   "cell_type": "markdown",
   "metadata": {},
   "source": [
    "### 元类做编程规约"
   ]
  },
  {
   "cell_type": "code",
   "execution_count": 20,
   "metadata": {},
   "outputs": [
    {
     "name": "stderr",
     "output_type": "stream",
     "text": [
      "WARNING:root:Bad attribute name: fooBar\n"
     ]
    }
   ],
   "source": [
    "# 拒绝混写方法名\n",
    "import logging\n",
    "\n",
    "class NoMixedCaseMeta(type):\n",
    "    def __new__(cls, clsname, bases, clsdict):\n",
    "        for name in clsdict:\n",
    "            if name.lower() != name:\n",
    "                logging.warning('Bad attribute name: ' + name)\n",
    "        return super().__new__(cls, clsname, bases, clsdict)\n",
    "\n",
    "class Root(metaclass=NoMixedCaseMeta):\n",
    "    pass\n",
    "\n",
    "class A(Root):\n",
    "    def foo_bar(self): # Ok\n",
    "        pass\n",
    "\n",
    "class B(Root):\n",
    "    def fooBar(self): # TypeError\n",
    "        pass"
   ]
  },
  {
   "cell_type": "code",
   "execution_count": 21,
   "metadata": {},
   "outputs": [
    {
     "name": "stderr",
     "output_type": "stream",
     "text": [
      "WARNING:root:Signature mismatch in B.foo. (self, x, y) != (self, a, b)\n",
      "WARNING:root:Signature mismatch in B.spam. (self, x, *, z) != (self, x, z)\n"
     ]
    }
   ],
   "source": [
    "# 检查方法签名一致性\n",
    "from inspect import signature\n",
    "\n",
    "class MatchSignaturesMeta(type):\n",
    "\n",
    "    def __init__(self, clsname, bases, clsdict):\n",
    "        super().__init__(clsname, bases, clsdict)\n",
    "        sup = super(self, self) # 父类\n",
    "        for name, value in clsdict.items():\n",
    "            if name.startswith('_') or not callable(value):\n",
    "                continue\n",
    "            # Get the previous definition (if any) and compare the signatures\n",
    "            prev_dfn = getattr(sup, name, None)\n",
    "            if prev_dfn:\n",
    "                prev_sig = signature(prev_dfn)\n",
    "                val_sig = signature(value)\n",
    "                if prev_sig != val_sig:\n",
    "                    logging.warning('Signature mismatch in %s. %s != %s',\n",
    "                                    value.__qualname__, prev_sig, val_sig)\n",
    "\n",
    "# Example\n",
    "class Root(metaclass=MatchSignaturesMeta):\n",
    "    pass\n",
    "\n",
    "class A(Root):\n",
    "    def foo(self, x, y):\n",
    "        pass\n",
    "\n",
    "    def spam(self, x, *, z):\n",
    "        pass\n",
    "\n",
    "# Class with redefined methods, but slightly different signatures\n",
    "class B(A):\n",
    "    def foo(self, a, b):\n",
    "        pass\n",
    "\n",
    "    def spam(self,x,z):\n",
    "        pass"
   ]
  },
  {
   "cell_type": "markdown",
   "metadata": {},
   "source": [
    "### 编程方式定义类\n",
    "\n",
    "types.new_class('Stock', (), {}, lambda ns: ns.update(cls_dict))\n",
    "\n",
    "- 类名\n",
    "- 父类\n",
    "- 类参数\n",
    "- 更新prepare方法返回的命名空间的映射对象"
   ]
  },
  {
   "cell_type": "code",
   "execution_count": 26,
   "metadata": {},
   "outputs": [
    {
     "data": {
      "text/plain": [
       "4555.0"
      ]
     },
     "execution_count": 26,
     "metadata": {},
     "output_type": "execute_result"
    }
   ],
   "source": [
    "# stock.py\n",
    "# Example of making a class manually from parts\n",
    "\n",
    "# Methods\n",
    "def __init__(self, name, shares, price):\n",
    "    self.name = name\n",
    "    self.shares = shares\n",
    "    self.price = price\n",
    "\n",
    "def cost(self):\n",
    "    return self.shares * self.price\n",
    "\n",
    "cls_dict = {\n",
    "    '__init__' : __init__,\n",
    "    'cost' : cost,\n",
    "}\n",
    "\n",
    "# Make a class\n",
    "import types\n",
    "\n",
    "Stock = types.new_class('Stock', (), {}, lambda ns: ns.update(cls_dict))\n",
    "Stock.__module__ = __name__\n",
    "\n",
    "s = Stock('ACME', 50, 91.1)\n",
    "s.cost()"
   ]
  },
  {
   "cell_type": "code",
   "execution_count": 23,
   "metadata": {},
   "outputs": [
    {
     "data": {
      "text/plain": [
       "__main__.Stock"
      ]
     },
     "execution_count": 23,
     "metadata": {},
     "output_type": "execute_result"
    }
   ],
   "source": [
    "import abc\n",
    "Stock = types.new_class('Stock', (), {'metaclass': abc.ABCMeta},\n",
    "                        lambda ns: ns.update(cls_dict))\n",
    "Stock.__module__ = __name__\n",
    "Stock"
   ]
  },
  {
   "cell_type": "code",
   "execution_count": 30,
   "metadata": {},
   "outputs": [],
   "source": [
    "# 等价\n",
    "# class Spam(Base, debug=True, typecheck=False):\n",
    "#     pass\n",
    "\n",
    "# Spam = types.new_class('Spam', (Base,),\n",
    "#                         {'debug': True, 'typecheck': False},\n",
    "#                         lambda ns: ns.update(cls_dict))"
   ]
  },
  {
   "cell_type": "code",
   "execution_count": 31,
   "metadata": {},
   "outputs": [],
   "source": [
    "# 也可创造类，但是不如 types.new_class 强大\n",
    "Stock = type('Stock', (), cls_dict)"
   ]
  },
  {
   "cell_type": "markdown",
   "metadata": {},
   "source": [
    "### 元类操作类属性"
   ]
  },
  {
   "cell_type": "code",
   "execution_count": null,
   "metadata": {},
   "outputs": [],
   "source": [
    "import operator\n",
    "\n",
    "class StructTupleMeta(type):\n",
    "    def __init__(cls, *args, **kwargs):\n",
    "        super().__init__(*args, **kwargs)\n",
    "        for n, name in enumerate(cls._fields):\n",
    "            # 函数 operator.itemgetter() 创建一个访问器函数， 然后 property() 函数将其转换成一个属性\n",
    "            setattr(cls, name, property(operator.itemgetter(n)))\n",
    "\n",
    "class StructTuple(tuple, metaclass=StructTupleMeta):\n",
    "    _fields = []\n",
    "    def __new__(cls, *args):\n",
    "        if len(args) != len(cls._fields):\n",
    "            raise ValueError('{} arguments required'.format(len(cls._fields)))\n",
    "        return super().__new__(cls,args)\n",
    "\n",
    "class Stock(StructTuple):\n",
    "    _fields = ['name', 'shares', 'price']\n",
    "\n",
    "class Point(StructTuple):\n",
    "    _fields = ['x', 'y']"
   ]
  },
  {
   "cell_type": "markdown",
   "metadata": {},
   "source": [
    "### 元类实现基于参数类型的方法重载\n",
    "\n",
    "https://python3-cookbook.readthedocs.io/zh_CN/latest/c09/p20_implement_multiple_dispatch_with_function_annotations.html"
   ]
  }
 ],
 "metadata": {
  "kernelspec": {
   "display_name": "Python 3",
   "language": "python",
   "name": "python3"
  },
  "language_info": {
   "codemirror_mode": {
    "name": "ipython",
    "version": 3
   },
   "file_extension": ".py",
   "mimetype": "text/x-python",
   "name": "python",
   "nbconvert_exporter": "python",
   "pygments_lexer": "ipython3",
   "version": "3.7.9"
  }
 },
 "nbformat": 4,
 "nbformat_minor": 4
}
