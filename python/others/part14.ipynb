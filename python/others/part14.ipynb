{
 "cells": [
  {
   "cell_type": "markdown",
   "metadata": {},
   "source": [
    "### 测试stdout输出\n",
    "\n",
    "使用 unittest.mock 模块的 patch() 方法可以很方便的在测试运行的上下文中替换对象"
   ]
  },
  {
   "cell_type": "code",
   "execution_count": 2,
   "metadata": {},
   "outputs": [],
   "source": [
    "# mymodule.py\n",
    "\n",
    "def urlprint(protocol, host, domain):\n",
    "    url = '{}://{}.{}'.format(protocol, host, domain)\n",
    "    print(url)"
   ]
  },
  {
   "cell_type": "code",
   "execution_count": 3,
   "metadata": {},
   "outputs": [],
   "source": [
    "from io import StringIO\n",
    "from unittest import TestCase\n",
    "from unittest.mock import patch\n",
    "import mymodule\n",
    "\n",
    "class TestURLPrint(TestCase):\n",
    "    def test_url_gets_to_stdout(self):\n",
    "        protocol = 'http'\n",
    "        host = 'www'\n",
    "        domain = 'example.com'\n",
    "        expected_url = '{}://{}.{}\\n'.format(protocol, host, domain)\n",
    "\n",
    "        with patch('sys.stdout', new=StringIO()) as fake_out:\n",
    "            mymodule.urlprint(protocol, host, domain)\n",
    "            self.assertEqual(fake_out.getvalue(), expected_url)"
   ]
  },
  {
   "cell_type": "markdown",
   "metadata": {},
   "source": [
    "### 在单元测试中给对象打补丁"
   ]
  },
  {
   "cell_type": "code",
   "execution_count": null,
   "metadata": {},
   "outputs": [],
   "source": [
    "from unittest.mock import patch\n",
    "import example\n",
    "\n",
    "# 装饰器\n",
    "@patch('example.func')\n",
    "def test1(x, mock_func):\n",
    "    example.func(x)       # Uses patched example.func\n",
    "    mock_func.assert_called_with(x)\n",
    "    \n",
    "# 上下文\n",
    "with patch('example.func') as mock_func:\n",
    "    example.func(x)      # Uses patched example.func\n",
    "    mock_func.assert_called_with(x)\n",
    "    \n",
    "# 手动的使用\n",
    "p = patch('example.func')\n",
    "mock_func = p.start()\n",
    "example.func(x)\n",
    "mock_func.assert_called_with(x)\n",
    "p.stop()"
   ]
  },
  {
   "cell_type": "markdown",
   "metadata": {},
   "source": [
    "### 在单元测试中测试异常情况"
   ]
  },
  {
   "cell_type": "code",
   "execution_count": null,
   "metadata": {},
   "outputs": [],
   "source": [
    "import unittest\n",
    "\n",
    "# A simple function to illustrate\n",
    "def parse_int(s):\n",
    "    return int(s)\n",
    "\n",
    "class TestConversion(unittest.TestCase):\n",
    "    def test_bad_int(self):\n",
    "        self.assertRaises(ValueError, parse_int, 'N/A')"
   ]
  },
  {
   "cell_type": "code",
   "execution_count": null,
   "metadata": {},
   "outputs": [],
   "source": [
    "import errno\n",
    "\n",
    "class TestIO(unittest.TestCase):\n",
    "    def test_file_not_found(self):\n",
    "        try:\n",
    "            f = open('/file/not/found')\n",
    "        except IOError as e:\n",
    "            self.assertEqual(e.errno, errno.ENOENT)\n",
    "\n",
    "        else:\n",
    "            self.fail('IOError not raised')"
   ]
  },
  {
   "cell_type": "markdown",
   "metadata": {},
   "source": [
    "### 将测试输出用日志记录到文件中"
   ]
  },
  {
   "cell_type": "code",
   "execution_count": null,
   "metadata": {},
   "outputs": [],
   "source": [
    "import unittest\n",
    "import sys\n",
    "\n",
    "class MyTest(unittest.TestCase):\n",
    "    pass\n",
    "\n",
    "def main(out=sys.stderr, verbosity=2):\n",
    "    loader = unittest.TestLoader()\n",
    "    suite = loader.loadTestsFromModule(sys.modules[__name__])\n",
    "    unittest.TextTestRunner(out, verbosity=verbosity).run(suite)\n",
    "\n",
    "if __name__ == '__main__':\n",
    "    with open('testing.out', 'w') as f:\n",
    "        main(f)"
   ]
  },
  {
   "cell_type": "markdown",
   "metadata": {},
   "source": [
    "### 忽略或期望测试失败"
   ]
  },
  {
   "cell_type": "code",
   "execution_count": null,
   "metadata": {},
   "outputs": [],
   "source": [
    "import unittest\n",
    "import os\n",
    "import platform\n",
    "\n",
    "class Tests(unittest.TestCase):\n",
    "    def test_0(self):\n",
    "        self.assertTrue(True)\n",
    "\n",
    "    @unittest.skip('skipped test')\n",
    "    def test_1(self):\n",
    "        self.fail('should have failed!')\n",
    "\n",
    "    @unittest.skipIf(os.name=='posix', 'Not supported on Unix')\n",
    "    def test_2(self):\n",
    "        import winreg\n",
    "\n",
    "    @unittest.skipUnless(platform.system() == 'Darwin', 'Mac specific test')\n",
    "    def test_3(self):\n",
    "        self.assertTrue(True)\n",
    "\n",
    "    @unittest.expectedFailure\n",
    "    def test_4(self):\n",
    "        self.assertEqual(2+2, 5)\n",
    "\n",
    "if __name__ == '__main__':\n",
    "    unittest.main()"
   ]
  },
  {
   "cell_type": "markdown",
   "metadata": {},
   "source": [
    "### 处理多个异常"
   ]
  },
  {
   "cell_type": "code",
   "execution_count": null,
   "metadata": {},
   "outputs": [],
   "source": [
    "try:\n",
    "    client_obj.get_url(url)\n",
    "except (URLError, ValueError, SocketTimeout):\n",
    "    client_obj.remove_url(url)"
   ]
  },
  {
   "cell_type": "code",
   "execution_count": null,
   "metadata": {},
   "outputs": [],
   "source": [
    "try:\n",
    "    client_obj.get_url(url)\n",
    "except (URLError, ValueError):\n",
    "    client_obj.remove_url(url)\n",
    "except SocketTimeout:\n",
    "    client_obj.handle_url_timeout(url)"
   ]
  },
  {
   "cell_type": "markdown",
   "metadata": {},
   "source": [
    "### 捕获所有异常\n",
    "\n",
    "这个将会捕获除了 SystemExit 、 KeyboardInterrupt 和 GeneratorExit 之外的所有异常。 如果你还想捕获这三个异常，将 Exception 改成 BaseException 即可。"
   ]
  },
  {
   "cell_type": "code",
   "execution_count": null,
   "metadata": {},
   "outputs": [],
   "source": [
    "try:\n",
    "   ...\n",
    "except Exception as e:\n",
    "   ...\n",
    "   log('Reason:', e)       # Important!"
   ]
  },
  {
   "cell_type": "markdown",
   "metadata": {},
   "source": [
    "### 创建自定义异常"
   ]
  },
  {
   "cell_type": "code",
   "execution_count": null,
   "metadata": {},
   "outputs": [],
   "source": [
    "class NetworkError(Exception):\n",
    "    pass\n",
    "\n",
    "class HostnameError(NetworkError):\n",
    "    pass\n",
    "\n",
    "class CustomError(Exception):\n",
    "    def __init__(self, message, status):\n",
    "        super().__init__(message, status)\n",
    "        self.message = message\n",
    "        self.status = status"
   ]
  },
  {
   "cell_type": "markdown",
   "metadata": {},
   "source": [
    "### 捕获异常后抛出另外的异常"
   ]
  },
  {
   "cell_type": "code",
   "execution_count": null,
   "metadata": {},
   "outputs": [],
   "source": [
    "def example():\n",
    "    try:\n",
    "            int('N/A')\n",
    "    except ValueError as e:\n",
    "            raise RuntimeError('A parsing error occurred') from e"
   ]
  },
  {
   "cell_type": "code",
   "execution_count": null,
   "metadata": {},
   "outputs": [],
   "source": [
    "try:\n",
    "    example()\n",
    "except RuntimeError as e:\n",
    "    print(\"It didn't work:\", e)\n",
    "\n",
    "    if e.__cause__:\n",
    "        print('Cause:', e.__cause__)"
   ]
  },
  {
   "cell_type": "markdown",
   "metadata": {},
   "source": [
    "### 重新抛出被捕获的异常"
   ]
  },
  {
   "cell_type": "code",
   "execution_count": null,
   "metadata": {},
   "outputs": [],
   "source": [
    "def example():\n",
    "    try:\n",
    "            int('N/A')\n",
    "    except ValueError:\n",
    "            print(\"Didn't work\")\n",
    "            raise"
   ]
  },
  {
   "cell_type": "markdown",
   "metadata": {},
   "source": [
    "### 输出警告信息"
   ]
  },
  {
   "cell_type": "code",
   "execution_count": null,
   "metadata": {},
   "outputs": [],
   "source": [
    "import warnings\n",
    "\n",
    "def func(x, y, logfile=None, debug=False):\n",
    "    if logfile is not None:\n",
    "         warnings.warn('logfile argument deprecated', DeprecationWarning)"
   ]
  },
  {
   "cell_type": "markdown",
   "metadata": {},
   "source": [
    "### 调试基本的程序崩溃错误\n",
    "\n",
    "如果你的程序因为某个异常而崩溃，运行 python3 -i someprogram.py 可执行简单的调试"
   ]
  },
  {
   "cell_type": "markdown",
   "metadata": {},
   "source": [
    "### 给你的程序做性能测试"
   ]
  },
  {
   "cell_type": "code",
   "execution_count": null,
   "metadata": {},
   "outputs": [],
   "source": [
    "bash % time python3 someprogram.py"
   ]
  },
  {
   "cell_type": "code",
   "execution_count": null,
   "metadata": {},
   "outputs": [],
   "source": [
    "bash % python3 -m cProfile someprogram.py"
   ]
  },
  {
   "cell_type": "code",
   "execution_count": null,
   "metadata": {},
   "outputs": [],
   "source": [
    "# timethis.py\n",
    "\n",
    "import time\n",
    "from functools import wraps\n",
    "\n",
    "def timethis(func):\n",
    "    @wraps(func)\n",
    "    def wrapper(*args, **kwargs):\n",
    "        start = time.perf_counter()\n",
    "        r = func(*args, **kwargs)\n",
    "        end = time.perf_counter()\n",
    "        print('{}.{} : {}'.format(func.__module__, func.__name__, end - start))\n",
    "        return r\n",
    "    return wrapper\n",
    "\n",
    "@timethis\n",
    "def countdown(n):\n",
    "    while n > 0:\n",
    "            n -= 1"
   ]
  },
  {
   "cell_type": "code",
   "execution_count": null,
   "metadata": {},
   "outputs": [],
   "source": [
    "from contextlib import contextmanager\n",
    "\n",
    "@contextmanager\n",
    "def timeblock(label):\n",
    "    start = time.perf_counter()\n",
    "    try:\n",
    "        yield\n",
    "    finally:\n",
    "        end = time.perf_counter()\n",
    "        print('{} : {}'.format(label, end - start))\n",
    "        \n",
    "with timeblock('counting'):\n",
    "    n = 10000000\n",
    "    while n > 0:\n",
    "            n -= 1"
   ]
  },
  {
   "cell_type": "code",
   "execution_count": null,
   "metadata": {},
   "outputs": [],
   "source": [
    "timeit('math.sqrt(2)', 'import math', number=10000000)\n",
    "# 1.434852126003534"
   ]
  },
  {
   "cell_type": "code",
   "execution_count": null,
   "metadata": {},
   "outputs": [],
   "source": [
    "# 执行时间 time.process_time()\n",
    "from functools import wraps\n",
    "def timethis(func):\n",
    "    @wraps(func)\n",
    "    def wrapper(*args, **kwargs):\n",
    "        start = time.process_time()\n",
    "        r = func(*args, **kwargs)\n",
    "        end = time.process_time()\n",
    "        print('{}.{} : {}'.format(func.__module__, func.__name__, end - start))\n",
    "        return r\n",
    "    return wrapper"
   ]
  },
  {
   "cell_type": "markdown",
   "metadata": {},
   "source": [
    "### 加速程序运行\n",
    "\n",
    "- 很少有人知道，像这样定义在全局范围的代码运行起来要比定义在函数中运行慢的多。 这种速度差异是由于局部变量和全局变量的实现方式（使用局部变量要更快些），使用函数带来15-30%的性能提升是很常见的\n",
    "\n",
    "- 每一次使用点(.)操作符来访问属性的时候会带来额外的开销。 它会触发特定的方法，比如 __getattribute__() 和 __getattr__() ，这些方法会进行字典操作操作\n",
    "\n",
    "- 任何时候当你使用额外的处理层（比如装饰器、属性访问、描述器）去包装你的代码时，都会让程序运行变慢\n",
    "\n",
    "- 内置的数据类型比如字符串、元组、列表、集合和字典都是使用C来实现的，运行起来非常快。"
   ]
  },
  {
   "cell_type": "code",
   "execution_count": null,
   "metadata": {},
   "outputs": [],
   "source": []
  }
 ],
 "metadata": {
  "kernelspec": {
   "display_name": "Python 3",
   "language": "python",
   "name": "python3"
  },
  "language_info": {
   "codemirror_mode": {
    "name": "ipython",
    "version": 3
   },
   "file_extension": ".py",
   "mimetype": "text/x-python",
   "name": "python",
   "nbconvert_exporter": "python",
   "pygments_lexer": "ipython3",
   "version": "3.7.9"
  }
 },
 "nbformat": 4,
 "nbformat_minor": 4
}
