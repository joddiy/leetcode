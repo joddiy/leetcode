{
 "cells": [
  {
   "cell_type": "markdown",
   "metadata": {},
   "source": [
    "### 与HTTP服务交互"
   ]
  },
  {
   "cell_type": "code",
   "execution_count": null,
   "metadata": {},
   "outputs": [],
   "source": [
    "from urllib import request, parse\n",
    "\n",
    "# Base URL being accessed\n",
    "url = 'http://httpbin.org/get'\n",
    "\n",
    "# Dictionary of query parameters (if any)\n",
    "parms = {\n",
    "   'name1' : 'value1',\n",
    "   'name2' : 'value2'\n",
    "}\n",
    "\n",
    "# Encode the query string\n",
    "querystring = parse.urlencode(parms)\n",
    "\n",
    "# Make a GET request and read the response\n",
    "u = request.urlopen(url+'?' + querystring)\n",
    "resp = u.read()"
   ]
  },
  {
   "cell_type": "code",
   "execution_count": null,
   "metadata": {},
   "outputs": [],
   "source": [
    "from urllib import request, parse\n",
    "\n",
    "# Base URL being accessed\n",
    "url = 'http://httpbin.org/post'\n",
    "\n",
    "# Dictionary of query parameters (if any)\n",
    "parms = {\n",
    "   'name1' : 'value1',\n",
    "   'name2' : 'value2'\n",
    "}\n",
    "\n",
    "# Encode the query string\n",
    "querystring = parse.urlencode(parms)\n",
    "\n",
    "# Make a POST request and read the response\n",
    "u = request.urlopen(url, querystring.encode('ascii'))\n",
    "resp = u.read()"
   ]
  },
  {
   "cell_type": "code",
   "execution_count": null,
   "metadata": {},
   "outputs": [],
   "source": [
    "from urllib import request, parse\n",
    "\n",
    "# Extra headers\n",
    "headers = {\n",
    "    'User-agent' : 'none/ofyourbusiness',\n",
    "    'Spam' : 'Eggs'\n",
    "}\n",
    "\n",
    "req = request.Request(url, querystring.encode('ascii'), headers=headers)\n",
    "\n",
    "# Make a request and read the response\n",
    "u = request.urlopen(req)\n",
    "resp = u.read()"
   ]
  },
  {
   "cell_type": "code",
   "execution_count": null,
   "metadata": {},
   "outputs": [],
   "source": [
    "import requests\n",
    "\n",
    "# Base URL being accessed\n",
    "url = 'http://httpbin.org/post'\n",
    "\n",
    "# Dictionary of query parameters (if any)\n",
    "parms = {\n",
    "   'name1' : 'value1',\n",
    "   'name2' : 'value2'\n",
    "}\n",
    "\n",
    "# Extra headers\n",
    "headers = {\n",
    "    'User-agent' : 'none/ofyourbusiness',\n",
    "    'Spam' : 'Eggs'\n",
    "}\n",
    "\n",
    "resp = requests.post(url, data=parms, headers=headers)\n",
    "\n",
    "# Decoded text returned by the request\n",
    "text = resp.text"
   ]
  },
  {
   "cell_type": "markdown",
   "metadata": {},
   "source": [
    "### 创建TCP服务器\n",
    "默认情况下这种服务器是单线程的\n",
    "\n",
    "如果你想处理多个客户端，可以初始化一个 ForkingTCPServer 或者是 ThreadingTCPServer 对象"
   ]
  },
  {
   "cell_type": "code",
   "execution_count": null,
   "metadata": {},
   "outputs": [],
   "source": [
    "from socketserver import BaseRequestHandler, TCPServer\n",
    "\n",
    "class EchoHandler(BaseRequestHandler):\n",
    "    def handle(self):\n",
    "        print('Got connection from', self.client_address)\n",
    "        while True:\n",
    "\n",
    "            msg = self.request.recv(8192)\n",
    "            if not msg:\n",
    "                break\n",
    "            self.request.send(msg)\n",
    "\n",
    "serv = TCPServer(('', 20000), EchoHandler)\n",
    "serv.serve_forever()"
   ]
  },
  {
   "cell_type": "code",
   "execution_count": null,
   "metadata": {},
   "outputs": [],
   "source": [
    "from socketserver import StreamRequestHandler, TCPServer\n",
    "\n",
    "class EchoHandler(StreamRequestHandler):\n",
    "    def handle(self):\n",
    "        print('Got connection from', self.client_address)\n",
    "        # self.rfile is a file-like object for reading\n",
    "        for line in self.rfile:\n",
    "            # self.wfile is a file-like object for writing\n",
    "            self.wfile.write(line)\n",
    "\n",
    "serv = TCPServer(('', 20000), EchoHandler)\n",
    "serv.serve_forever()"
   ]
  },
  {
   "cell_type": "code",
   "execution_count": null,
   "metadata": {},
   "outputs": [],
   "source": [
    "from socketserver import ThreadingTCPServer\n",
    "\n",
    "serv = ThreadingTCPServer(('', 20000), EchoHandler)\n",
    "serv.serve_forever()"
   ]
  },
  {
   "cell_type": "code",
   "execution_count": null,
   "metadata": {},
   "outputs": [],
   "source": [
    "from threading import Thread\n",
    "\n",
    "NWORKERS = 16\n",
    "serv = TCPServer(('', 20000), EchoHandler)\n",
    "for n in range(NWORKERS):\n",
    "    t = Thread(target=serv.serve_forever) #??\n",
    "    t.daemon = True\n",
    "    t.start()\n",
    "serv.serve_forever()"
   ]
  },
  {
   "cell_type": "markdown",
   "metadata": {},
   "source": [
    "### 创建UDP服务器"
   ]
  },
  {
   "cell_type": "code",
   "execution_count": null,
   "metadata": {},
   "outputs": [],
   "source": [
    "from socketserver import BaseRequestHandler, UDPServer\n",
    "import time\n",
    "\n",
    "class TimeHandler(BaseRequestHandler):\n",
    "    def handle(self):\n",
    "        print('Got connection from', self.client_address)\n",
    "        # Get message and client socket\n",
    "        msg, sock = self.request\n",
    "        resp = time.ctime()\n",
    "        sock.sendto(resp.encode('ascii'), self.client_address)\n",
    "\n",
    "serv = UDPServer(('', 20000), TimeHandler)\n",
    "serv.serve_forever()"
   ]
  },
  {
   "cell_type": "code",
   "execution_count": null,
   "metadata": {},
   "outputs": [],
   "source": [
    "from socketserver import ThreadingUDPServer\n",
    "\n",
    "serv = ThreadingUDPServer(('',20000), TimeHandler)\n",
    "serv.serve_forever()"
   ]
  },
  {
   "cell_type": "markdown",
   "metadata": {},
   "source": [
    "### 生成对应的IP地址集"
   ]
  },
  {
   "cell_type": "code",
   "execution_count": null,
   "metadata": {},
   "outputs": [],
   "source": [
    "import ipaddress\n",
    "net = ipaddress.ip_network('123.45.67.64/27')\n",
    "print(net)\n",
    "for a in net:\n",
    "    print(a)"
   ]
  },
  {
   "cell_type": "markdown",
   "metadata": {},
   "source": [
    "### 简单的REST接口"
   ]
  },
  {
   "cell_type": "code",
   "execution_count": null,
   "metadata": {},
   "outputs": [],
   "source": []
  }
 ],
 "metadata": {
  "kernelspec": {
   "display_name": "Python 3",
   "language": "python",
   "name": "python3"
  },
  "language_info": {
   "codemirror_mode": {
    "name": "ipython",
    "version": 3
   },
   "file_extension": ".py",
   "mimetype": "text/x-python",
   "name": "python",
   "nbconvert_exporter": "python",
   "pygments_lexer": "ipython3",
   "version": "3.7.9"
  }
 },
 "nbformat": 4,
 "nbformat_minor": 4
}
