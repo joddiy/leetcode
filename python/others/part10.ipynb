{
 "cells": [
  {
   "cell_type": "markdown",
   "metadata": {},
   "source": [
    "### 构建一个模块的层级包\n",
    "\n",
    "文件__init__.py的目的是要包含不同运行级别的包的可选的初始化代码\n",
    "\n",
    "举个例子，__init__.py能够用来自动加载子模块:"
   ]
  },
  {
   "cell_type": "code",
   "execution_count": null,
   "metadata": {},
   "outputs": [],
   "source": [
    "# graphics/formats/__init__.py\n",
    "from . import jpg\n",
    "from . import png"
   ]
  },
  {
   "cell_type": "markdown",
   "metadata": {},
   "source": [
    "### 控制模块被全部导入的内容\n",
    "\n",
    "当使用 from module import * 时，明确列出导出内容"
   ]
  },
  {
   "cell_type": "code",
   "execution_count": null,
   "metadata": {},
   "outputs": [],
   "source": [
    "# somemodule.py\n",
    "def spam():\n",
    "    pass\n",
    "\n",
    "def grok():\n",
    "    pass\n",
    "\n",
    "blah = 42\n",
    "# Only export 'spam' and 'grok'\n",
    "__all__ = ['spam', 'grok']"
   ]
  },
  {
   "cell_type": "markdown",
   "metadata": {},
   "source": [
    "### 相对路径名导入"
   ]
  },
  {
   "cell_type": "code",
   "execution_count": null,
   "metadata": {},
   "outputs": [],
   "source": [
    "# mypackage/A/spam.py\n",
    "from . import grok\n",
    "\n",
    "# mypackage/A/spam.py\n",
    "from ..B import bar\n",
    "\n",
    "from . import grok # OK\n",
    "import .grok # ERROR\n",
    "\n",
    "% python3 mypackage/A/spam.py # Relative imports fail\n",
    "\n",
    "% python3 -m mypackage.A.spam # Relative imports work"
   ]
  },
  {
   "cell_type": "markdown",
   "metadata": {},
   "source": [
    "### 将模块分割成多个文件\n",
    "\n",
    "使用 __init__.py 文件来将每部分粘合在一起"
   ]
  },
  {
   "cell_type": "code",
   "execution_count": null,
   "metadata": {},
   "outputs": [],
   "source": [
    "# __init__.py\n",
    "from .a import A\n",
    "from .b import B\n",
    "\n",
    "# 延迟导入\n",
    "# 延迟加载的主要缺点是继承和类型检查可能会中断\n",
    "# __init__.py\n",
    "def A():\n",
    "    from .a import A\n",
    "    return A()\n",
    "\n",
    "def B():\n",
    "    from .b import B\n",
    "    return B()\n",
    "\n",
    "import mymodule\n",
    "a = mymodule.A()\n",
    "a.spam()"
   ]
  },
  {
   "cell_type": "markdown",
   "metadata": {},
   "source": [
    "### 利用命名空间导入目录分散的代码\n",
    "在统一不同的目录里统一相同的命名空间，但是要删去用来将组件联合起来的__init__.py文件\n",
    "\n",
    "```\n",
    "foo-package/\n",
    "    spam/\n",
    "        blah.py\n",
    "\n",
    "bar-package/\n",
    "    spam/\n",
    "        grok.py\n",
    "```\n",
    "两个目录中的spam共同组成了同一个命名空间"
   ]
  },
  {
   "cell_type": "code",
   "execution_count": null,
   "metadata": {},
   "outputs": [],
   "source": [
    "import sys\n",
    "\n",
    "sys.path.extend(['foo-package', 'bar-package'])\n",
    "import spam.blah\n",
    "import spam.grok\n",
    "import spam\n",
    "print(spam.__path__)\n",
    "# _NamespacePath(['foo-package/spam', 'bar-package/spam'])"
   ]
  },
  {
   "cell_type": "markdown",
   "metadata": {},
   "source": [
    "### 重新加载模块"
   ]
  },
  {
   "cell_type": "code",
   "execution_count": null,
   "metadata": {},
   "outputs": [],
   "source": [
    "import spam\n",
    "import imp\n",
    "imp.reload(spam)\n",
    "\n",
    "# 该 load 会被重置\n",
    "import spam\n",
    "# 该 load 不会被重置\n",
    "from spam import grok"
   ]
  },
  {
   "cell_type": "markdown",
   "metadata": {},
   "source": [
    "### 运行目录\n",
    "```\n",
    "myapplication/\n",
    "    spam.py\n",
    "    bar.py\n",
    "    grok.py\n",
    "    __main__.py\n",
    "```"
   ]
  },
  {
   "cell_type": "code",
   "execution_count": null,
   "metadata": {},
   "outputs": [],
   "source": [
    "% python3 myapplication"
   ]
  },
  {
   "cell_type": "markdown",
   "metadata": {},
   "source": [
    "### 读取位于包中的数据文件\n",
    "```\n",
    "mypackage/\n",
    "    __init__.py\n",
    "    somedata.dat\n",
    "    spam.py\n",
    "```"
   ]
  },
  {
   "cell_type": "code",
   "execution_count": null,
   "metadata": {},
   "outputs": [],
   "source": [
    "# spam.py\n",
    "import pkgutil\n",
    "# 返回 原始内容的字节字符串\n",
    "data = pkgutil.get_data(__package__, 'somedata.dat')"
   ]
  },
  {
   "cell_type": "markdown",
   "metadata": {},
   "source": [
    "### 将文件夹加入到sys.path\n",
    "- 使用PYTHONPATH环境变量\n",
    "- 创建一个.pth文件"
   ]
  },
  {
   "cell_type": "code",
   "execution_count": null,
   "metadata": {},
   "outputs": [],
   "source": [
    "import sys\n",
    "from os.path import abspath, join, dirname\n",
    "sys.path.insert(0, join(abspath(dirname(__file__)), 'src'))"
   ]
  },
  {
   "cell_type": "markdown",
   "metadata": {},
   "source": [
    "### 通过字符串名导入模块"
   ]
  },
  {
   "cell_type": "code",
   "execution_count": null,
   "metadata": {},
   "outputs": [],
   "source": [
    "import importlib\n",
    "# Same as 'import math'\n",
    "math = importlib.import_module('math')\n",
    "\n",
    "# Same as 'from . import b'\n",
    "b = importlib.import_module('.b', __package__)"
   ]
  },
  {
   "cell_type": "markdown",
   "metadata": {},
   "source": [
    "### 通过钩子远程加载模块"
   ]
  },
  {
   "cell_type": "code",
   "execution_count": null,
   "metadata": {},
   "outputs": [],
   "source": []
  },
  {
   "cell_type": "markdown",
   "metadata": {},
   "source": [
    "### 导入模块的同时修改模块"
   ]
  },
  {
   "cell_type": "code",
   "execution_count": null,
   "metadata": {},
   "outputs": [],
   "source": [
    "from functools import wraps\n",
    "from postimport import when_imported\n",
    "\n",
    "def logged(func):\n",
    "    @wraps(func)\n",
    "    def wrapper(*args, **kwargs):\n",
    "        print('Calling', func.__name__, args, kwargs)\n",
    "        return func(*args, **kwargs)\n",
    "    return wrapper\n",
    "\n",
    "# Example\n",
    "@when_imported('math')\n",
    "def add_logging(mod):\n",
    "    mod.cos = logged(mod.cos)\n",
    "    mod.sin = logged(mod.sin)"
   ]
  }
 ],
 "metadata": {
  "kernelspec": {
   "display_name": "Python 3",
   "language": "python",
   "name": "python3"
  },
  "language_info": {
   "codemirror_mode": {
    "name": "ipython",
    "version": 3
   },
   "file_extension": ".py",
   "mimetype": "text/x-python",
   "name": "python",
   "nbconvert_exporter": "python",
   "pygments_lexer": "ipython3",
   "version": "3.7.9"
  }
 },
 "nbformat": 4,
 "nbformat_minor": 4
}
