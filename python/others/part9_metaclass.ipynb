{
 "cells": [
  {
   "cell_type": "markdown",
   "metadata": {},
   "source": [
    "### 定义有可选参数的元类 \n",
    "为了使元类支持这些关键字参数，你必须确保在 __prepare__() , __new__() 和 __init__() 方法中 都使用强制关键字参数\n",
    " \n",
    " - __prepare__() 方法在所有类定义开始执行前首先被调用，用来创建类命名空间，这个方法只是简单的返回一个字典或其他映射对象\n",
    " - __new__() 方法被用来实例化最终的类对象。它在类的主体被执行完后开始执行\n",
    " - __init__() 方法最后被调用，用来执行其他的一些初始化工作"
   ]
  },
  {
   "cell_type": "code",
   "execution_count": 2,
   "metadata": {},
   "outputs": [],
   "source": [
    "class MyMeta(type):\n",
    "    # Optional\n",
    "    @classmethod\n",
    "    def __prepare__(cls, name, bases, *, debug=False, synchronize=False):\n",
    "        # Custom processing\n",
    "        pass\n",
    "        return super().__prepare__(name, bases)\n",
    "\n",
    "    # Required\n",
    "    def __new__(cls, name, bases, ns, *, debug=False, synchronize=False):\n",
    "        # Custom processing\n",
    "        pass\n",
    "        return super().__new__(cls, name, bases, ns)\n",
    "\n",
    "    # Required\n",
    "    def __init__(self, name, bases, ns, *, debug=False, synchronize=False):\n",
    "        # Custom processing\n",
    "        pass\n",
    "        super().__init__(name, bases, ns)\n",
    "\n",
    "\n",
    "class Spam(metaclass=MyMeta, debug=True, synchronize=True):\n",
    "    pass"
   ]
  },
  {
   "cell_type": "markdown",
   "metadata": {},
   "source": [
    "### 强制绑定参数\n"
   ]
  },
  {
   "cell_type": "code",
   "execution_count": null,
   "metadata": {},
   "outputs": [],
   "source": [
    "from inspect import Signature, Parameter\n",
    "\n",
    "def make_sig(*names):\n",
    "    parms = [Parameter(name, Parameter.POSITIONAL_OR_KEYWORD)\n",
    "            for name in names]\n",
    "    return Signature(parms)\n",
    "\n",
    "class StructureMeta(type):\n",
    "    def __new__(cls, clsname, bases, clsdict):\n",
    "        # 利用 _fields 总参数制作签名\n",
    "        clsdict['__signature__'] = make_sig(*clsdict.get('_fields',[]))\n",
    "        return super().__new__(cls, clsname, bases, clsdict)\n",
    "\n",
    "class Structure(metaclass=StructureMeta):\n",
    "    _fields = []\n",
    "    def __init__(self, *args, **kwargs):\n",
    "        bound_values = self.__signature__.bind(*args, **kwargs)\n",
    "        for name, value in bound_values.arguments.items():\n",
    "            setattr(self, name, value)\n",
    "\n",
    "# Example\n",
    "class Stock(Structure):\n",
    "    _fields = ['name', 'shares', 'price']\n",
    "\n",
    "class Point(Structure):\n",
    "    _fields = ['x', 'y']"
   ]
  },
  {
   "cell_type": "markdown",
   "metadata": {},
   "source": [
    "### 在类上强制使用编程规约\n",
    "在大型面向对象的程序中，通常将类的定义放在元类中控制是很有用的。 元类可以监控类的定义，警告编程人员某些没有注意到的可能出现的问题。"
   ]
  },
  {
   "cell_type": "code",
   "execution_count": null,
   "metadata": {},
   "outputs": [],
   "source": [
    "class NoMixedCaseMeta(type):\n",
    "    def __new__(cls, clsname, bases, clsdict):\n",
    "        for name in clsdict:\n",
    "            # 拒绝混合大小写名字方法\n",
    "            if name.lower() != name:\n",
    "                raise TypeError('Bad attribute name: ' + name)\n",
    "        return super().__new__(cls, clsname, bases, clsdict)\n",
    "\n",
    "class Root(metaclass=NoMixedCaseMeta):\n",
    "    pass\n",
    "\n",
    "class A(Root):\n",
    "    def foo_bar(self): # Ok\n",
    "        pass\n",
    "\n",
    "class B(Root):\n",
    "    def fooBar(self): # TypeError\n",
    "        pass\n"
   ]
  },
  {
   "cell_type": "markdown",
   "metadata": {},
   "source": [
    "### 以编程方式定义类\n"
   ]
  },
  {
   "cell_type": "code",
   "execution_count": 3,
   "metadata": {},
   "outputs": [],
   "source": [
    "import types\n",
    "import abc\n",
    "\n",
    "# stock.py\n",
    "# Example of making a class manually from parts\n",
    "\n",
    "# Methods\n",
    "def __init__(self, name, shares, price):\n",
    "    self.name = name\n",
    "    self.shares = shares\n",
    "    self.price = price\n",
    "def cost(self):\n",
    "    return self.shares * self.price\n",
    "\n",
    "cls_dict = {\n",
    "    '__init__' : __init__,\n",
    "    'cost' : cost,\n",
    "}\n",
    "\n",
    "# Make a class\n",
    "\n",
    "# 第一个参数，类名\n",
    "# 第二个，父类\n",
    "# 第三个，元类，和其他关键参数\n",
    "# 第四个，类似prepare，返回命名空间的映射对象\n",
    "Stock = types.new_class('Stock', (), {'metaclass': abc.ABCMeta},\n",
    "                    lambda ns: ns.update(cls_dict))\n",
    "Stock.__module__ = __name__\n",
    "\n",
    "# 简化版本，不需要prepare\n",
    "Stock = type('Stock', (), cls_dict)\n",
    "\n",
    "# 仅仅prepare\n",
    "metaclass, kwargs, ns = types.prepare_class('Stock', (), {'metaclass': type})"
   ]
  },
  {
   "cell_type": "markdown",
   "metadata": {},
   "source": []
  },
  {
   "cell_type": "code",
   "execution_count": null,
   "metadata": {},
   "outputs": [],
   "source": [
    "import operator\n",
    "\n",
    "class StructTupleMeta(type):\n",
    "    def __init__(cls, *args, **kwargs):\n",
    "        super().__init__(*args, **kwargs)\n",
    "        for n, name in enumerate(cls._fields):\n",
    "            setattr(cls, name, property(operator.itemgetter(n)))\n",
    "\n",
    "class StructTuple(tuple, metaclass=StructTupleMeta):\n",
    "    _fields = []\n",
    "    def __new__(cls, *args):\n",
    "        if len(args) != len(cls._fields):\n",
    "            raise ValueError('{} arguments required'.format(len(cls._fields)))\n",
    "        return super().__new__(cls,args)"
   ]
  }
 ],
 "metadata": {
  "kernelspec": {
   "display_name": "Python 3",
   "language": "python",
   "name": "python3"
  },
  "language_info": {
   "codemirror_mode": {
    "name": "ipython",
    "version": 3
   },
   "file_extension": ".py",
   "mimetype": "text/x-python",
   "name": "python",
   "nbconvert_exporter": "python",
   "pygments_lexer": "ipython3",
   "version": "3.7.9"
  }
 },
 "nbformat": 4,
 "nbformat_minor": 4
}
