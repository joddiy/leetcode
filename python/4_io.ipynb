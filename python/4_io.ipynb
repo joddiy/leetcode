{
 "cells": [
  {
   "cell_type": "markdown",
   "metadata": {},
   "source": [
    "### 读写文本数据"
   ]
  },
  {
   "cell_type": "code",
   "execution_count": null,
   "metadata": {},
   "outputs": [],
   "source": [
    "# with open('somefile.txt', 'rt') as f:\n",
    "#     data = f.read()\n",
    "\n",
    "# with open('somefile.txt', 'wt') as f:\n",
    "#     f.write(text1)\n",
    "    \n",
    "# with open('somefile.txt', 'rt', encoding='latin-1') as f:\n",
    "#     data = f.read()\n",
    "\n",
    "# with open('hello.txt', 'rt', newline='') as f:\n",
    "#     data = f.read()\n",
    "\n",
    "# with open('sample.txt', 'rt', encoding='ascii', errors='ignore') as f:\n",
    "#     data = f.read()"
   ]
  },
  {
   "cell_type": "markdown",
   "metadata": {},
   "source": [
    "### 打印输出至文件中\n",
    "\n",
    "以 wt 模式打开"
   ]
  },
  {
   "cell_type": "code",
   "execution_count": null,
   "metadata": {},
   "outputs": [],
   "source": [
    "# with open('d:/work/test.txt', 'wt') as f:\n",
    "#     print('Hello World!', file=f)"
   ]
  },
  {
   "cell_type": "code",
   "execution_count": null,
   "metadata": {},
   "outputs": [],
   "source": [
    "print('ACME', 50, 91.5, sep=',', end='!!\\n')"
   ]
  },
  {
   "cell_type": "markdown",
   "metadata": {},
   "source": [
    "### 读写字节数据\n",
    "\n",
    "readinto 直接读取到已分配的内存中"
   ]
  },
  {
   "cell_type": "code",
   "execution_count": null,
   "metadata": {},
   "outputs": [],
   "source": [
    "# with open('somefile.bin', 'rb') as f:\n",
    "#     data = f.read()\n",
    "\n",
    "# with open('somefile.bin', 'wb') as f:\n",
    "#     f.write(b'Hello World')"
   ]
  },
  {
   "cell_type": "code",
   "execution_count": null,
   "metadata": {},
   "outputs": [],
   "source": [
    "# with open('somefile.bin', 'rb') as f:\n",
    "#     data = f.read(16)\n",
    "#     text = data.decode('utf-8')\n",
    "\n",
    "# with open('somefile.bin', 'wb') as f:\n",
    "#     text = 'Hello World'\n",
    "#     f.write(text.encode('utf-8'))"
   ]
  },
  {
   "cell_type": "code",
   "execution_count": null,
   "metadata": {},
   "outputs": [],
   "source": [
    "# readinto() 方法直接读取二进制数据到其底层的内存中去\n",
    "# import array\n",
    "# nums = array.array('i', [1, 2, 3, 4])\n",
    "# with open('data.bin','wb') as f:\n",
    "#     f.write(nums)\n",
    "    \n",
    "# a = array.array('i', [0, 0, 0, 0, 0, 0, 0, 0])\n",
    "# with open('data.bin', 'rb') as f:\n",
    "#     f.readinto(a)"
   ]
  },
  {
   "cell_type": "markdown",
   "metadata": {},
   "source": [
    "### I/O操作"
   ]
  },
  {
   "cell_type": "code",
   "execution_count": null,
   "metadata": {},
   "outputs": [],
   "source": [
    "import io\n",
    "\n",
    "s = io.StringIO()\n",
    "s.write('Hello World\\n')\n",
    "s.getvalue()\n",
    "\n",
    "s = io.BytesIO()\n",
    "s.write(b'binary data')\n",
    "s.getvalue()"
   ]
  },
  {
   "cell_type": "markdown",
   "metadata": {},
   "source": [
    "### 读写压缩文件"
   ]
  },
  {
   "cell_type": "code",
   "execution_count": null,
   "metadata": {},
   "outputs": [],
   "source": [
    "# # gzip compression\n",
    "# import gzip\n",
    "# with gzip.open('somefile.gz', 'rt') as f:\n",
    "#     text = f.read()\n",
    "\n",
    "# # bz2 compression\n",
    "# import bz2\n",
    "# with bz2.open('somefile.bz2', 'rt') as f:\n",
    "#     text = f.read()\n",
    "    \n",
    "# # gzip compression\n",
    "# import gzip\n",
    "# with gzip.open('somefile.gz', 'wt') as f:\n",
    "#     f.write(text)\n",
    "\n",
    "# # bz2 compression\n",
    "# import bz2\n",
    "# with bz2.open('somefile.bz2', 'wt') as f:\n",
    "#     f.write(text)"
   ]
  },
  {
   "cell_type": "markdown",
   "metadata": {},
   "source": [
    "### 内存映射"
   ]
  },
  {
   "cell_type": "code",
   "execution_count": 4,
   "metadata": {},
   "outputs": [],
   "source": [
    "# import os\n",
    "# import mmap\n",
    "\n",
    "# fd = os.open(filename, os.O_RDWR)\n",
    "# m = mmap.mmap(fd, os.path.getsize(filename), access=mmap.ACCESS_WRITE)\n",
    "# print(len(m))\n",
    "# print(m[0:10])\n",
    "# print(m[0])\n",
    "\n",
    "# m[0:11] = b'Hello World'\n",
    "#  m.close()"
   ]
  },
  {
   "cell_type": "markdown",
   "metadata": {},
   "source": [
    "### 增加或改变已打开文件的编码"
   ]
  },
  {
   "cell_type": "code",
   "execution_count": 12,
   "metadata": {},
   "outputs": [
    {
     "name": "stdout",
     "output_type": "stream",
     "text": [
      "<_io.TextIOWrapper name='sample.txt' mode='w' encoding='UTF-8'>\n",
      "<_io.BufferedWriter name='sample.txt'>\n",
      "<_io.FileIO name='sample.txt' mode='wb' closefd=True>\n"
     ]
    }
   ],
   "source": [
    "# I/O系统由一系列的层次构建\n",
    "\n",
    "f = open('sample.txt','w')\n",
    "#编码和解码Unicode的文本处理层\n",
    "print(f) \n",
    "# 处理二进制数据的带缓冲的I/O层\n",
    "print(f.buffer)\n",
    "# 是一个表示操作系统底层文件描述符的原始文件\n",
    "print(f.buffer.raw)"
   ]
  },
  {
   "cell_type": "code",
   "execution_count": 13,
   "metadata": {},
   "outputs": [
    {
     "name": "stdout",
     "output_type": "stream",
     "text": [
      "<_io.BufferedWriter name='sample.txt'>\n",
      "<_io.TextIOWrapper name='sample.txt' encoding='latin-1'>\n"
     ]
    }
   ],
   "source": [
    "# detach() 方法会断开文件的最顶层并返回第二层\n",
    "f = open('sample.txt', 'w')\n",
    "b = f.detach()\n",
    "print(b)\n",
    "\n",
    "# 给返回结果添加一个新的最顶层\n",
    "f = io.TextIOWrapper(b, encoding='latin-1')\n",
    "print(f)"
   ]
  },
  {
   "cell_type": "markdown",
   "metadata": {},
   "source": [
    "### 将文件描述符包装成文件对象\n",
    "\n",
    "一个文件描述符和一个打开的普通文件是不一样的。 文件描述符仅仅是一个由操作系统指定的整数，用来指代某个系统的I/O通道。 \n",
    "\n",
    "以通过使用 open() 函数来将其包装为一个Python的文件对象。"
   ]
  },
  {
   "cell_type": "code",
   "execution_count": null,
   "metadata": {},
   "outputs": [],
   "source": [
    "# Open a low-level file descriptor\n",
    "import os\n",
    "fd = os.open('somefile.txt', os.O_WRONLY | os.O_CREAT)\n",
    "\n",
    "# Turn into a proper file\n",
    "f = open(fd, 'wt')\n",
    "f.write('hello world\\n')\n",
    "f.close()\n",
    "\n",
    "# 当高层的文件对象被关闭或者破坏的时候，底层的文件描述符也会被关闭，或者：\n",
    "# Create a file object, but don't close underlying fd when done\n",
    "f = open(fd, 'wt', closefd=False)"
   ]
  }
 ],
 "metadata": {
  "kernelspec": {
   "display_name": "Python 3",
   "language": "python",
   "name": "python3"
  },
  "language_info": {
   "codemirror_mode": {
    "name": "ipython",
    "version": 3
   },
   "file_extension": ".py",
   "mimetype": "text/x-python",
   "name": "python",
   "nbconvert_exporter": "python",
   "pygments_lexer": "ipython3",
   "version": "3.7.9"
  }
 },
 "nbformat": 4,
 "nbformat_minor": 4
}
